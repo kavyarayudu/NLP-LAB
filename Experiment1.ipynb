{
  "nbformat": 4,
  "nbformat_minor": 0,
  "metadata": {
    "colab": {
      "name": "Experiment1.ipynb",
      "provenance": [],
      "authorship_tag": "ABX9TyM18K4RNNkAwlASTrtJr7Xc",
      "include_colab_link": true
    },
    "kernelspec": {
      "name": "python3",
      "display_name": "Python 3"
    },
    "language_info": {
      "name": "python"
    }
  },
  "cells": [
    {
      "cell_type": "markdown",
      "metadata": {
        "id": "view-in-github",
        "colab_type": "text"
      },
      "source": [
        "<a href=\"https://colab.research.google.com/github/kavyarayudu/NLP-LAB/blob/main/Experiment1.ipynb\" target=\"_parent\"><img src=\"https://colab.research.google.com/assets/colab-badge.svg\" alt=\"Open In Colab\"/></a>"
      ]
    },
    {
      "cell_type": "markdown",
      "metadata": {
        "id": "BI5xPRaH78kt"
      },
      "source": [
        "**Experiment - 1**"
      ]
    },
    {
      "cell_type": "markdown",
      "metadata": {
        "id": "zK0L9GKH8Kfo"
      },
      "source": [
        "**1.Replace all occurrences of 5 with ‘five’ for the given string**"
      ]
    },
    {
      "cell_type": "code",
      "metadata": {
        "colab": {
          "base_uri": "https://localhost:8080/",
          "height": 35
        },
        "id": "mN2zMRZl8PgA",
        "outputId": "08f11f0a-a767-4163-a825-2ec95a9d6e7c"
      },
      "source": [
        "import re\n",
        "s='I completed 5 books from 5 different websites'\n",
        "re.sub(r'5', 'five', s)"
      ],
      "execution_count": 1,
      "outputs": [
        {
          "output_type": "execute_result",
          "data": {
            "application/vnd.google.colaboratory.intrinsic+json": {
              "type": "string"
            },
            "text/plain": [
              "'I completed five books from five different websites'"
            ]
          },
          "metadata": {},
          "execution_count": 1
        }
      ]
    },
    {
      "cell_type": "markdown",
      "metadata": {
        "id": "TTQdYmCa8duj"
      },
      "source": [
        "**2.For the given list, filter all elements that do not contain ‘e’.**"
      ]
    },
    {
      "cell_type": "code",
      "metadata": {
        "colab": {
          "base_uri": "https://localhost:8080/"
        },
        "id": "pUfebgBL8h78",
        "outputId": "0f9944af-cc47-4b35-a60b-728e32f8e3ba"
      },
      "source": [
        "list = ['hii', 'kavya', 'sony', 'jerry']\n",
        "[x for x in list if not re.search(r'e', x)]"
      ],
      "execution_count": 3,
      "outputs": [
        {
          "output_type": "execute_result",
          "data": {
            "text/plain": [
              "['hii', 'kavya', 'sony']"
            ]
          },
          "metadata": {},
          "execution_count": 3
        }
      ]
    },
    {
      "cell_type": "markdown",
      "metadata": {
        "id": "Q6iGPVyS8xB0"
      },
      "source": [
        "**3.For the given input string, display all lines not containing ‘start’ irrespective of case.**"
      ]
    },
    {
      "cell_type": "code",
      "metadata": {
        "colab": {
          "base_uri": "https://localhost:8080/"
        },
        "id": "Zp84w95h857S",
        "outputId": "f7d08723-dbd7-46b2-8f8a-4a61d8f665f3"
      },
      "source": [
        "k = '''start playing\n",
        "games every day\n",
        ",listen to music\n",
        "and work very hard'''\n",
        "w = re.compile(r'start', flags=re.I)\n",
        "for i in k.split('\\n'):\n",
        "     if not w.search(i):\n",
        "         print(i)"
      ],
      "execution_count": 4,
      "outputs": [
        {
          "output_type": "stream",
          "name": "stdout",
          "text": [
            "games every day\n",
            ",listen to music\n",
            "and work very hard\n"
          ]
        }
      ]
    },
    {
      "cell_type": "markdown",
      "metadata": {
        "id": "h8Nbm0H19gy0"
      },
      "source": [
        "**4.For the given input list, filter all elements that contains 42 surrounded by word characters.**"
      ]
    },
    {
      "cell_type": "code",
      "metadata": {
        "colab": {
          "base_uri": "https://localhost:8080/"
        },
        "id": "B10s0rAG9mMT",
        "outputId": "d4fdd276-ee4b-4220-d851-37a9783bca17"
      },
      "source": [
        "list = ['lakshmi42kavya', 'kavya1423', 'jerry42', 'janu42a', 'tata4b']\n",
        "[x for x in list if re.search(r'\\B42\\B', x)]"
      ],
      "execution_count": 5,
      "outputs": [
        {
          "output_type": "execute_result",
          "data": {
            "text/plain": [
              "['lakshmi42kavya', 'kavya1423', 'janu42a']"
            ]
          },
          "metadata": {},
          "execution_count": 5
        }
      ]
    },
    {
      "cell_type": "markdown",
      "metadata": {
        "id": "pdJOO0Va9wCj"
      },
      "source": [
        "**5.Validate the CVV number(It should have 3 or 4 digits, It should have a digit between 0-9, It should not have any alphabets and special characters)**"
      ]
    },
    {
      "cell_type": "code",
      "metadata": {
        "colab": {
          "base_uri": "https://localhost:8080/"
        },
        "id": "UIkrD_In91bT",
        "outputId": "cc8c6184-b71e-4e01-cfc7-f2a1ce1b1126"
      },
      "source": [
        "def isValidCVVNumber(str):\n",
        "    regex = \"^[0-9]{3,4}$\"\n",
        "    p = re.compile(regex)\n",
        "    if(str == None):\n",
        "        return False\n",
        "    if(re.search(p, str)):\n",
        "        return True\n",
        "    else:\n",
        "        return False\n",
        "s1 = \"763\"\n",
        "print(isValidCVVNumber(s1))\n",
        "s2 = \"85634\"\n",
        "print(isValidCVVNumber(s2))\n",
        "s3 = \"83964\"\n",
        "print(isValidCVVNumber(s3))\n",
        "s4 = \"#43a#1\"\n",
        "print(isValidCVVNumber(s4))"
      ],
      "execution_count": 6,
      "outputs": [
        {
          "output_type": "stream",
          "name": "stdout",
          "text": [
            "True\n",
            "False\n",
            "False\n",
            "False\n"
          ]
        }
      ]
    },
    {
      "cell_type": "markdown",
      "metadata": {
        "id": "XHInm3Z1-DB6"
      },
      "source": [
        "**6.For the given input string, change whole word mall to 1234 only if it is at the start of a line**"
      ]
    },
    {
      "cell_type": "code",
      "metadata": {
        "colab": {
          "base_uri": "https://localhost:8080/"
        },
        "id": "7vy2Y8Kr-HIy",
        "outputId": "4ac701ff-e0c4-4b69-8392-0d7c9d2f44a3"
      },
      "source": [
        "p = '''\n",
        "lakshmi and kavya \n",
        "went to\n",
        "mall yesterday\n",
        "and bought\n",
        "some dresses\n",
        "from mall'''\n",
        "\n",
        "print(re.sub(r'^mall\\b', '1234', p, flags=re.M))"
      ],
      "execution_count": 7,
      "outputs": [
        {
          "output_type": "stream",
          "name": "stdout",
          "text": [
            "\n",
            "lakshmi and kavya \n",
            "went to\n",
            "1234 yesterday\n",
            "and bought\n",
            "some dresses\n",
            "from mall\n"
          ]
        }
      ]
    },
    {
      "cell_type": "markdown",
      "metadata": {
        "id": "g5EKq0Hk-snD"
      },
      "source": [
        "**7.Check whether the given email address is valid or not.**"
      ]
    },
    {
      "cell_type": "code",
      "metadata": {
        "colab": {
          "base_uri": "https://localhost:8080/"
        },
        "id": "52DWkSgo-xvC",
        "outputId": "de7a2c63-8dfe-4d42-c87c-10d6aa473aae"
      },
      "source": [
        "regex = r'\\b[A-Za-z0-9._%+-]+@[A-Za-z0-9.-]+\\.[A-Z|a-z]{2,}\\b'\n",
        " \n",
        "def check(email):\n",
        "    if(re.fullmatch(regex, email)):\n",
        "        print(\"Valid Email\")\n",
        "    else:\n",
        "        print(\"Invalid Email\")\n",
        "if __name__ == '__main__':\n",
        "    email = \"lucky99@gmail.com\"\n",
        "    check(email)\n",
        "    email = \"kavya.9r8uykhcoe@our-earth.org\"\n",
        "    check(email) \n",
        "    email = \"anush87345326.com\"\n",
        "    check(email)"
      ],
      "execution_count": 8,
      "outputs": [
        {
          "output_type": "stream",
          "name": "stdout",
          "text": [
            "Valid Email\n",
            "Valid Email\n",
            "Invalid Email\n"
          ]
        }
      ]
    },
    {
      "cell_type": "markdown",
      "metadata": {
        "id": "-UNKP84n-_OT"
      },
      "source": [
        "**8.Check whether the Aadhar number is valid or not ( It should have 12 digits, It should not start with 0 and 1, It should not contain any alphabet and special characters, It should have white space after every 4 digits)**"
      ]
    },
    {
      "cell_type": "code",
      "metadata": {
        "colab": {
          "base_uri": "https://localhost:8080/"
        },
        "id": "vpWDMmY3_FB7",
        "outputId": "8cc8aaa8-d65e-4986-d285-81a12d83844b"
      },
      "source": [
        "def isValidAadharNumber(str):\n",
        "  regex = (\"^[2-9]{1}[0-9]{3}\\\\\" + \"s[0-9]{4}\\\\s[0-9]{4}$\")\n",
        "  a= re.compile(regex)\n",
        "  if (str == None):\n",
        "        return False\n",
        "  if(re.search(a, str)):\n",
        "        return True\n",
        "  else:\n",
        "        return False\n",
        "s1 = \"3675 9834 6015 6\"\n",
        "print(isValidAadharNumber(s1))\n",
        "s2 = \"4675 9834 6013\"\n",
        "print(isValidAadharNumber(s2))\n",
        "s3 = \"0175 9834 6012 56\"\n",
        "print(isValidAadharNumber(s3))\n",
        "s4 = \"3675 98AF 60#2\"\n",
        "print(isValidAadharNumber(s4))\n",
        "s5 = \"417598346012\"\n",
        "print(isValidAadharNumber(s5))"
      ],
      "execution_count": 9,
      "outputs": [
        {
          "output_type": "stream",
          "name": "stdout",
          "text": [
            "False\n",
            "True\n",
            "False\n",
            "False\n",
            "False\n"
          ]
        }
      ]
    }
  ]
}